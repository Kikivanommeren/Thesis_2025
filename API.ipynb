{
 "cells": [
  {
   "cell_type": "code",
   "execution_count": 1,
   "id": "52117264-da9c-4ff4-8864-081f71e81840",
   "metadata": {},
   "outputs": [],
   "source": [
    "import os"
   ]
  },
  {
   "cell_type": "code",
   "execution_count": 2,
   "id": "743fe65a-002d-4584-8d19-8cc9426001c6",
   "metadata": {},
   "outputs": [
    {
     "name": "stderr",
     "output_type": "stream",
     "text": [
      "2025-01-21 14:21:11,416 INFO [2024-09-28T00:00:00] **Welcome to the New Climate Data Store (CDS)!** This new system is in its early days of full operations and still undergoing enhancements and fine tuning. Some disruptions are to be expected. Your \n",
      "[feedback](https://jira.ecmwf.int/plugins/servlet/desk/portal/1/create/202) is key to improve the user experience on the new CDS for the benefit of everyone. Thank you.\n",
      "2025-01-21 14:21:11,417 INFO [2024-09-26T00:00:00] Watch our [Forum](https://forum.ecmwf.int/) for Announcements, news and other discussed topics.\n",
      "2025-01-21 14:21:11,419 INFO [2024-09-16T00:00:00] Remember that you need to have an ECMWF account to use the new CDS. **Your old CDS credentials will not work in new CDS!**\n",
      "2025-01-21 14:21:11,420 WARNING [2024-06-16T00:00:00] CDS API syntax is changed and some keys or parameter names may have also changed. To avoid requests failing, please use the \"Show API request code\" tool on the dataset Download Form to check you are using the correct syntax for your API request.\n",
      "2025-01-21 14:21:11,724 INFO Request ID is cb9c351e-f408-458f-bed8-125ab15b4420\n",
      "2025-01-21 14:21:11,767 INFO status has been updated to accepted\n",
      "2025-01-21 14:21:25,768 INFO status has been updated to running\n",
      "2025-01-21 14:21:33,461 INFO status has been updated to successful\n"
     ]
    },
    {
     "data": {
      "application/vnd.jupyter.widget-view+json": {
       "model_id": "",
       "version_major": 2,
       "version_minor": 0
      },
      "text/plain": [
       "d7b8030ac9b3d599efbd05d012d610e7.zip:   0%|          | 0.00/5.07G [00:00<?, ?B/s]"
      ]
     },
     "metadata": {},
     "output_type": "display_data"
    }
   ],
   "source": [
    "import cdsapi \n",
    "\n",
    "dataset = \"reanalysis-oras5\"\n",
    "\n",
    "years = [str(x) for x in list (range(2017,2018))]\n",
    "#months = [f\"{x:02d}\" for x in range(1, 13)]\n",
    "os.chdir('/nobackup/users/ommeren/salinity')\n",
    "def request_download(year):\n",
    "    request = {\n",
    "    \"product_type\": [\"operational\"],\n",
    "    \"vertical_resolution\": \"all_levels\",\n",
    "    \"variable\": [\"salinity\"],\n",
    "    \"year\": [year],\n",
    "    \"month\": ['01','02','03','04','05','06','07','08','09','10','11','12']}\n",
    "    client = cdsapi.Client()\n",
    "    client.retrieve(dataset, request).download()\n",
    "for year in years:\n",
    "    #for month in months:\n",
    "    request_download(year)"
   ]
  },
  {
   "cell_type": "code",
   "execution_count": 3,
   "id": "9c818964-a65e-4850-80a9-6d3f1884bafd",
   "metadata": {},
   "outputs": [
    {
     "name": "stdout",
     "output_type": "stream",
     "text": [
      "Extracted d7b8030ac9b3d599efbd05d012d610e7.zip to /nobackup/users/ommeren/salinity\n",
      "All files are extracted to /nobackup/users/ommeren/salinity.\n"
     ]
    }
   ],
   "source": [
    "import os\n",
    "import zipfile\n",
    "import shutil\n",
    "\n",
    "# Path where the ZIP files are currently located\n",
    "current_dir = os.getcwd()  # Assuming the script is run from the folder with ZIPs\n",
    "\n",
    "# Destination folder for unzipped files\n",
    "destination_dir = \"/nobackup/users/ommeren/salinity\"\n",
    "\n",
    "# Ensure the destination directory exists\n",
    "os.makedirs(destination_dir, exist_ok=True)\n",
    "\n",
    "# Iterate over all files in the current directory\n",
    "for file_name in os.listdir(current_dir):\n",
    "    if file_name.endswith(\".zip\"):  # Check for ZIP files\n",
    "        zip_path = os.path.join(current_dir, file_name)  # Full path to the ZIP file\n",
    "        with zipfile.ZipFile(zip_path, 'r') as zip_ref:\n",
    "            # Extract all files to the destination directory\n",
    "            zip_ref.extractall(destination_dir)\n",
    "            print(f\"Extracted {file_name} to {destination_dir}\")\n",
    "            \n",
    "# Verify unzipped files in the destination folder\n",
    "print(f\"All files are extracted to {destination_dir}.\")\n"
   ]
  },
  {
   "cell_type": "code",
   "execution_count": 4,
   "id": "429604ed-7172-4088-b5c0-56e2fb531d51",
   "metadata": {},
   "outputs": [
    {
     "ename": "SyntaxError",
     "evalue": "invalid syntax (1131076040.py, line 1)",
     "output_type": "error",
     "traceback": [
      "\u001b[0;36m  Cell \u001b[0;32mIn[4], line 1\u001b[0;36m\u001b[0m\n\u001b[0;31m    print (cdsapi.)\u001b[0m\n\u001b[0m                  ^\u001b[0m\n\u001b[0;31mSyntaxError\u001b[0m\u001b[0;31m:\u001b[0m invalid syntax\n"
     ]
    }
   ],
   "source": [
    "print (cdsapi.)"
   ]
  }
 ],
 "metadata": {
  "kernelspec": {
   "display_name": "Python 3 (ipykernel)",
   "language": "python",
   "name": "python3"
  },
  "language_info": {
   "codemirror_mode": {
    "name": "ipython",
    "version": 3
   },
   "file_extension": ".py",
   "mimetype": "text/x-python",
   "name": "python",
   "nbconvert_exporter": "python",
   "pygments_lexer": "ipython3",
   "version": "3.12.2"
  }
 },
 "nbformat": 4,
 "nbformat_minor": 5
}
